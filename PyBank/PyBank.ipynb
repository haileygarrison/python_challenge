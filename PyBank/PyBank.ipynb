{
 "cells": [
  {
   "cell_type": "code",
   "execution_count": 1,
   "id": "4451d5b6",
   "metadata": {},
   "outputs": [],
   "source": [
    "import os\n",
    "import csv\n",
    "\n",
    "csvpath = os.path.join('.', 'Resources', 'budget_data.csv')\n",
    "\n",
    "with open(csvpath, 'r') as file_handler:\n",
    "    lines = file_handler.read()\n",
    "  \n"
   ]
  },
  {
   "cell_type": "code",
   "execution_count": 2,
   "id": "8556df22",
   "metadata": {},
   "outputs": [],
   "source": [
    "dates_list = []\n",
    "gains_list = []\n",
    "\n",
    "chopped_into_rows = lines.split(\"\\n\")\n",
    "\n",
    "\n",
    "for row in chopped_into_rows:\n",
    "    \n",
    "    chopped_into_cols = row.split(\",\")\n",
    "    date = chopped_into_cols[0]\n",
    "    gain = chopped_into_cols[1]\n",
    "    \n",
    "\n",
    "    if \"Date\" in date:\n",
    "        continue\n",
    "    if \"Profit/Losses\" in gain:\n",
    "        continue\n",
    "    \n",
    "    dates_list.append(date)\n",
    "    gains_list.append(float(gain))\n",
    "  "
   ]
  },
  {
   "cell_type": "code",
   "execution_count": 3,
   "id": "4c137e7f",
   "metadata": {},
   "outputs": [],
   "source": [
    "delta_list = []\n",
    "\n",
    "for i in range(len(gains_list)-1):\n",
    "        \n",
    "    delta = gains_list[i] - gains_list[i-1] \n",
    "    delta_list.append(delta)\n",
    "    \n",
    "    "
   ]
  },
  {
   "cell_type": "code",
   "execution_count": 4,
   "id": "4c17a61b",
   "metadata": {},
   "outputs": [],
   "source": [
    "output = (\n",
    "    f\"Total Months: {len(dates_list)}\\n\"\n",
    "    f\"Total: {sum(gains_list)}\\n\"\n",
    "    f\"Average Change: {round(sum(delta_list) / len(delta_list),2)}\\n\"\n",
    "    f\"Total: {dates_list[delta_list.index(max(delta_list))]} {max(delta_list)}\\n\"\n",
    "    f\"Total: {dates_list[delta_list.index(min(delta_list))]} {min(delta_list)}\\n\"\n",
    ")\n"
   ]
  },
  {
   "cell_type": "code",
   "execution_count": 5,
   "id": "0ce7a741",
   "metadata": {},
   "outputs": [
    {
     "name": "stdout",
     "output_type": "stream",
     "text": [
      "Total Months: 86\n",
      "Total: 22564198.0\n",
      "Average Change: 2643.16\n",
      "Total: Aug-16 1862002.0\n",
      "Total: Feb-14 -1825558.0\n",
      "\n"
     ]
    }
   ],
   "source": [
    "print(output)"
   ]
  },
  {
   "cell_type": "code",
   "execution_count": 6,
   "id": "5e316607",
   "metadata": {},
   "outputs": [],
   "source": [
    "txt_file_path = os.path.join(\"./analysis/PyBank_Analysis.txt\")\n",
    "\n",
    "# print(txt_file_path)\n",
    "\n",
    "with open(txt_file_path, 'w') as txt_file:\n",
    "    txt_file.write(output)\n",
    "    \n",
    "    \n",
    "    "
   ]
  },
  {
   "cell_type": "code",
   "execution_count": null,
   "id": "c7151176",
   "metadata": {},
   "outputs": [],
   "source": []
  }
 ],
 "metadata": {
  "kernelspec": {
   "display_name": "Python 3 (ipykernel)",
   "language": "python",
   "name": "python3"
  },
  "language_info": {
   "codemirror_mode": {
    "name": "ipython",
    "version": 3
   },
   "file_extension": ".py",
   "mimetype": "text/x-python",
   "name": "python",
   "nbconvert_exporter": "python",
   "pygments_lexer": "ipython3",
   "version": "3.11.4"
  }
 },
 "nbformat": 4,
 "nbformat_minor": 5
}
