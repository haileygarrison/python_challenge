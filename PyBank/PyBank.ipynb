{
 "cells": [
  {
   "cell_type": "code",
   "execution_count": 22,
   "id": "6a6d6a9b",
   "metadata": {},
   "outputs": [
    {
     "name": "stdout",
     "output_type": "stream",
     "text": [
      "Total Months: 86\n",
      "Total: 22564198.0\n",
      "Average Change: -8311.11\n",
      "Total: Aug-16 1862002.0\n",
      "Total: Feb-14 -1825558.0\n",
      "\n"
     ]
    }
   ],
   "source": [
    "import os\n",
    "import csv\n",
    "\n",
    "csvpath = os.path.join('.', 'Resources', 'budget_data.csv')\n",
    "\n",
    "with open(csvpath, 'r') as file_handler:\n",
    "    csvreader = csv.reader(file_handler, delimiter=',')\n",
    "    csv_header = next(csvreader)\n",
    "\n",
    "    dates_list = []\n",
    "    gains_list = []\n",
    "\n",
    "    for row in csvreader:\n",
    "        date = row[0]\n",
    "        gain = row[1]\n",
    "    \n",
    "        dates_list.append(date)\n",
    "        gains_list.append(float(gain))\n",
    "\n",
    "delta_list_2 = []\n",
    "\n",
    "for i in range(len(gains_list)-1):\n",
    "\n",
    "    delta_2 = gains_list[i+1] - gains_list[i]\n",
    "    delta_list_2.append(delta_2)\n",
    "\n",
    "output = (\n",
    "    f\"Total Months: {len(dates_list)}\\n\"\n",
    "    f\"Total: {sum(gains_list)}\\n\"\n",
    "    f\"Average Change: {round((sum(delta_list_2) / len(delta_list_2)),2)}\\n\"\n",
    "    f\"Total: {dates_list[delta_list_2.index(max(delta_list_2))+1]} {max(delta_list_2)}\\n\"\n",
    "    f\"Total: {dates_list[delta_list_2.index(min(delta_list_2))+1]} {min(delta_list_2)}\\n\"\n",
    ")\n",
    "\n",
    "print(output)\n",
    "\n",
    "txt_file_path = os.path.join(\"./analysis/PyBank_Analysis.txt\")\n",
    "\n",
    "# print(txt_file_path)\n",
    "\n",
    "with open(txt_file_path, 'w') as txt_file:\n",
    "    txt_file.write(output)\n",
    "    \n",
    "    "
   ]
  },
  {
   "cell_type": "code",
   "execution_count": null,
   "id": "7b0d1626",
   "metadata": {},
   "outputs": [],
   "source": []
  }
 ],
 "metadata": {
  "kernelspec": {
   "display_name": "Python 3 (ipykernel)",
   "language": "python",
   "name": "python3"
  },
  "language_info": {
   "codemirror_mode": {
    "name": "ipython",
    "version": 3
   },
   "file_extension": ".py",
   "mimetype": "text/x-python",
   "name": "python",
   "nbconvert_exporter": "python",
   "pygments_lexer": "ipython3",
   "version": "3.11.4"
  }
 },
 "nbformat": 4,
 "nbformat_minor": 5
}
