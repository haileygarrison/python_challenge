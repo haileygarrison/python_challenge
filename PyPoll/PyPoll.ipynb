{
 "cells": [
  {
   "cell_type": "code",
   "execution_count": 1,
   "id": "422a475f",
   "metadata": {},
   "outputs": [
    {
     "name": "stdout",
     "output_type": "stream",
     "text": [
      "Total Votes: 369711\n",
      "Charles Casper Stockham: 23% (85213)\n",
      "Diana DeGette: 74% (272892)\n",
      "Raymon Anthony Doane: 3% (11606)\n",
      "\n",
      "The winner is Diana DeGette!\n"
     ]
    }
   ],
   "source": [
    "import os\n",
    "import csv\n",
    "\n",
    "csv_path = os.path.join('.','Resources','election_data.csv')\n",
    "\n",
    "total_votes = 0\n",
    "\n",
    "c = []\n",
    "d = {}\n",
    "\n",
    "with open(csv_path, 'r') as file_handler:\n",
    "    \n",
    "    csvreader = csv.reader(file_handler, delimiter=',')\n",
    "    csv_header = next(csvreader)\n",
    "    for row in csvreader:\n",
    "        total_votes+=1\n",
    "        c_name = row[2]\n",
    "        if c_name not in c:\n",
    "            c.append(c_name)\n",
    "            d[c_name]=1\n",
    "        else:d[c_name] += 1\n",
    "\n",
    "max_val = 0\n",
    "output_1 =\"\"\n",
    "for key,value in d.items():\n",
    "    if value > max_val:\n",
    "        max_val = value\n",
    "        winner = key\n",
    "    \n",
    "    percent = round((value / total_votes) * 100) \n",
    "    output_1 += (f\"{key}: {percent}% ({value})\\n\")\n",
    "\n",
    "output_2 = (f\"The winner is {winner}!\")    \n",
    "\n",
    "print(f\"Total Votes: {total_votes}\")\n",
    "print(output_1)\n",
    "print(output_2)\n",
    "\n",
    "txt_file_path = os.path.join(\"./analysis/PyPoll_Analysis.txt\")\n",
    "\n",
    "with open(txt_file_path, 'w') as txt_file:\n",
    "    \n",
    "    txt_file.write(f\"Total Votes: {total_votes}\\n\")\n",
    "    txt_file.write(output_1)\n",
    "    txt_file.write(output_2)\n",
    "        "
   ]
  },
  {
   "cell_type": "code",
   "execution_count": null,
   "id": "630de771",
   "metadata": {},
   "outputs": [],
   "source": []
  }
 ],
 "metadata": {
  "kernelspec": {
   "display_name": "Python 3 (ipykernel)",
   "language": "python",
   "name": "python3"
  },
  "language_info": {
   "codemirror_mode": {
    "name": "ipython",
    "version": 3
   },
   "file_extension": ".py",
   "mimetype": "text/x-python",
   "name": "python",
   "nbconvert_exporter": "python",
   "pygments_lexer": "ipython3",
   "version": "3.11.4"
  }
 },
 "nbformat": 4,
 "nbformat_minor": 5
}
