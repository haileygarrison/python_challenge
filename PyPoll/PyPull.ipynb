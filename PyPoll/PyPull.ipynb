{
 "cells": [
  {
   "cell_type": "code",
   "execution_count": null,
   "id": "422a475f",
   "metadata": {},
   "outputs": [],
   "source": [
    "import os\n",
    "import csv\n",
    "\n",
    "csv_path = os.path.join('.','Resources','election_data.csv')\n",
    "print(csv_path)\n",
    "\n",
    "with open(csv_path, 'r') as file_handler:\n",
    "    lines = file_handler.read()\n",
    "    print(type(lines))\n",
    "\n",
    "\n",
    "chopped_into_rows = lines.split(\"\\n\")\n",
    "\n",
    "print(chopped_into_rows)\n",
    "\n",
    "\n",
    "ballot_ID_list = []\n",
    "county_list = []\n",
    "candidate_list = []\n",
    "\n",
    "for row in chopped_into_rows:\n",
    "    \n",
    "    chopped_into_cols = row.split(\",\")    \n",
    "    ballot_ID = chopped_into_cols[0]\n",
    "    county = chopped_into_cols[1]\n",
    "    candidate = chopped_into_cols[2]\n",
    "    \n",
    "    if \"Ballot ID\" in ballot_ID:\n",
    "        continue\n",
    "    if \"County\" in county:\n",
    "        continue\n",
    "    if \"Candidate\" in candidate:\n",
    "        continue\n",
    "    \n",
    "    ballot_ID_list.append(float(ballot_ID))\n",
    "    county_list.append(county)\n",
    "    candidate_list.append(candidate)\n",
    "    "
   ]
  },
  {
   "cell_type": "code",
   "execution_count": null,
   "id": "e6d8c09e",
   "metadata": {},
   "outputs": [],
   "source": []
  },
  {
   "cell_type": "code",
   "execution_count": null,
   "id": "5c47bed6",
   "metadata": {},
   "outputs": [],
   "source": []
  }
 ],
 "metadata": {
  "kernelspec": {
   "display_name": "Python 3 (ipykernel)",
   "language": "python",
   "name": "python3"
  },
  "language_info": {
   "codemirror_mode": {
    "name": "ipython",
    "version": 3
   },
   "file_extension": ".py",
   "mimetype": "text/x-python",
   "name": "python",
   "nbconvert_exporter": "python",
   "pygments_lexer": "ipython3",
   "version": "3.11.4"
  }
 },
 "nbformat": 4,
 "nbformat_minor": 5
}
